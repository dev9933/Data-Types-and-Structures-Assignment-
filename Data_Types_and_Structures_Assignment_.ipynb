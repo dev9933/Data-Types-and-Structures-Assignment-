{
  "nbformat": 4,
  "nbformat_minor": 0,
  "metadata": {
    "colab": {
      "provenance": []
    },
    "kernelspec": {
      "name": "python3",
      "display_name": "Python 3"
    },
    "language_info": {
      "name": "python"
    }
  },
  "cells": [
    {
      "cell_type": "markdown",
      "source": [
        "# **Data Types and Structures Assignment .ipynb**"
      ],
      "metadata": {
        "id": "QJnnzo1qBYak"
      }
    },
    {
      "cell_type": "markdown",
      "source": [
        "## **Theory questions ?**"
      ],
      "metadata": {
        "id": "k6OnB-e8BmV9"
      }
    },
    {
      "cell_type": "markdown",
      "source": [
        "**1.What are data structures, and why are they important ?**\n",
        "\n",
        "ans:-> Data structures are ways to organize and store data in a computer so that it can be used\n",
        " efficiently.\n",
        "\n",
        " Why are they important?\n",
        "\n",
        " They help programs store data properly\n",
        "\n",
        " Make it easier and faster to access, search, and modify data\n",
        "\n",
        " Without good data structures, programs would be slow and complicated\n",
        "\n",
        " They form the foundation for algorithms and solving real-world problems"
      ],
      "metadata": {
        "id": "RMB6GfiFB5vk"
      }
    },
    {
      "cell_type": "markdown",
      "source": [
        "**2**.Explain the difference between mutable and immutable\n",
        " data types with examples?**\n",
        "\n",
        "\n",
        " ans:- Mutable:\n",
        " Objects that can be changed after they are created.\n",
        " No new memory location is created\n",
        " Example :list, dict, se"
      ],
      "metadata": {
        "id": "qOGx0krLDAc2"
      }
    },
    {
      "cell_type": "code",
      "source": [
        "# Example of Mutable\n",
        "my_list = [1, 2, 3]\n",
        "my_list[0] = 10\n",
        "print(my_list)"
      ],
      "metadata": {
        "colab": {
          "base_uri": "https://localhost:8080/"
        },
        "id": "vxgwLOJWEG75",
        "outputId": "b4474429-34a4-4723-ea65-ea1171a87eef"
      },
      "execution_count": 3,
      "outputs": [
        {
          "output_type": "stream",
          "name": "stdout",
          "text": [
            "[10, 2, 3]\n"
          ]
        }
      ]
    },
    {
      "cell_type": "markdown",
      "source": [
        " Immutable:\n",
        " Objects that cannot be changed after they are created.\n",
        " Creation of new memory location at any changes\n",
        " Examples: int, float, str, tuple\n",
        "\n",
        "\n"
      ],
      "metadata": {
        "id": "QJnnFE9oDLDh"
      }
    },
    {
      "cell_type": "code",
      "source": [
        " # Example of immutable\n",
        " t = (1, 2, 3)\n",
        " # t[0] = 10  #This will raise a TypeError"
      ],
      "metadata": {
        "id": "lbQFxtKPFGgi"
      },
      "execution_count": 7,
      "outputs": []
    },
    {
      "cell_type": "markdown",
      "source": [
        "**3**.**What are the main differences between lists and tuples in Python ?**\n",
        "\n",
        "\n",
        "ans:-Mutability:Lists are mutable whereas tuples are immutable.\n",
        " This means you can change, add, or remove elements in a list, but you cannot modify a tuple after it's created.\n",
        " 2. Syntax: Lists use square brackets [ ], whereas tuples use parentheses ( ).\n",
        " This means you define a list like [1, 2, 3] and a tuple like (1, 2, 3).\n",
        " 3. Methods Available: Lists have many built-in methods, whereas *tuples *have very few.\n",
        " This means you can modify a list using methods like append(), pop(), or sort(), but tuples only support count()\n",
        " and index().\n",
        " 4. Performance: Tuples are faster in performance than** lists**.\n",
        " This is because tuples are immutable and require less overhead, making them more efficient in fixed-size data\n",
        " operations.\n",
        " 5. Memory Usage: Tuples use less memory than lists.\n",
        " Since tuples are fixed in size, they consume less memory than dynamic lists.\n",
        " 6. Use Case: Lists are used when data can change, whereas tuples are used for fixed data.\n",
        " This means use lists for dynamic operations, and tuples when you want to protect data from modification"
      ],
      "metadata": {
        "id": "h0B_D8JyF3dv"
      }
    },
    {
      "cell_type": "markdown",
      "source": [
        "**4.** Describe how dictionaries store data **?**\n",
        "\n",
        "ans:-A dictionary in Python is a collection of key-value pairs, where each key is unique and is used to access its corresponding\n",
        " value.\n",
        "\n",
        " Dictionaries store data: A dictionary stores data as key-value pairs.\n",
        "\n",
        " The key is used to identify the data.\n",
        "\n",
        " The value is the data associated with that key.\n",
        "\n",
        " It allows for quick access, update, and deletion of data using keys."
      ],
      "metadata": {
        "id": "Y96uefU-IQ4q"
      }
    },
    {
      "cell_type": "markdown",
      "source": [
        "## 5. Why might you use a set instead of a list in Python ?\n",
        "\n",
        "\n",
        "ans:- Reasons to use set instead of list :\n",
        " 1. No duplicate elements : A set automatically removes duplicates, while a list can store them.\n",
        " 2. Faster lookups : Checking if an element exists in a set (in operation) is generally O(1), compared to O(n) for a list.\n",
        " 3. Unordered collection : If you don’t care about the order of elements, sets are more efficient.\n",
        " 4. Mathematical operations : Sets support union, intersection, and difference operations directly.\n",
        " 5. Better for uniqueness checks : When you need only unique items, sets avoid manual duplicate removal"
      ],
      "metadata": {
        "id": "KutzIJbdJD_W"
      }
    },
    {
      "cell_type": "markdown",
      "source": [
        " 6. What is a string in Python, and how is it different from a list ?\n",
        "\n",
        "\n",
        " ans:- String: A string is a sequence of characters. Python treats anything inside quotes as a string. This includes letters, numbers,\n",
        " and symbols. Python has no character data type so single character is a string of length 1.\n",
        " String different from list:\n",
        " 1. Data Type : A string stores only characters, while a list can store elements of any data type (numbers,\n",
        " strings, objects, etc.).\n",
        " 2. Mutability : Strings are immutable, whereas lists are mutable .\n",
        " 3. Element Type : Strings can contain only characters, but lists can have mixed data types.\n",
        " 4. Modification : You cannot directly change a character in a string, but you can change, add, or remove\n",
        " elements in a list.\n",
        " 5. Operations : Strings have text-specific methods (upper(), replace(), split()), while lists have collection\n",
        "specific methods (append(), remove(), sort()).\n",
        " 6. Representation : Strings are written inside quotes (' ', \" \"), while lists are written inside square brackets [ ].\n",
        " 7. Usage : Strings are used for text data, while lists are used for storing a sequence of items."
      ],
      "metadata": {
        "id": "Y8WgvX0RJfHw"
      }
    },
    {
      "cell_type": "markdown",
      "source": [
        " 7. How do tuples ensure data integrity in Python ?\n",
        "\n",
        " ans:-\n",
        ">Tuples ensure data integrity in Python mainly because they are immutable.\n",
        " Other reasons tuples ensure data integrity:\n",
        ">> 1. Prevents accidental changes : Since tuples can’t be modified, your data stays exactly as it was when created\n",
        " >>2. Reliable as constants : Tuples can store fixed data (like configuration values) that must remain the same throughout the\n",
        " program.\n",
        " >>3. Safe for keys in dictionaries : Their immutability allows them to be used as dictionary keys or stored in sets without risk\n",
        " of being altered.\n",
        " >>4. Predictable behavior : No unexpected changes in tuple data make debugging and tracking logic easier.\n",
        " >>5. Thread-safety : In multi-threaded programs, immutable data structures like tuples reduce the chance of data corruption\n",
        " from concurrent modifications."
      ],
      "metadata": {
        "id": "by-VZW-KJzxj"
      }
    },
    {
      "cell_type": "markdown",
      "source": [
        " 8. What is a hash table, and how does it relate to dictionaries in Python ?\n",
        "\n",
        " ans:- A hash table is a data structure that stores key–value pairs and uses a hash function to map each key to a specific index\n",
        " (bucket) in memory.\n",
        " Relation of Hashtable to dictionaries :\n",
        " 1. In Python, a dictionary (dict) is implemented using a hash table.\n",
        " 2. Keys in a dictionary are hashed internally, and their hash values decide where the corresponding values are\n",
        " stored in memory.\n",
        " 3. Only immutable and hashable objects can be used as dictionary keys.\n",
        " 4. Hash tables let dictionaries perform very fast lookups, even with large amounts of data\n",
        ""
      ],
      "metadata": {
        "id": "osEYQUD_HSKw"
      }
    },
    {
      "cell_type": "code",
      "source": [
        " my_dict = {\"name\": \"dev\", \"age\": 22}\n",
        " # \"name\" is hashed internally → value 25 stored at a memory bucket\n",
        " print(my_dict[\"name\"])  # Output: Alice"
      ],
      "metadata": {
        "colab": {
          "base_uri": "https://localhost:8080/"
        },
        "id": "8wKDew7pLWLu",
        "outputId": "757ec3e8-7b70-4789-f336-5e3424ad167f"
      },
      "execution_count": 9,
      "outputs": [
        {
          "output_type": "stream",
          "name": "stdout",
          "text": [
            "dev\n"
          ]
        }
      ]
    },
    {
      "cell_type": "markdown",
      "source": [
        " 9. Can lists contain different data types in Python ?\n",
        "\n",
        " ans:-\n",
        "  Yes, lists in Python can contain different data types in the same list.\n",
        " A list can hold integers, floats, strings, booleans, objects, even other lists — all mixed together.\n",
        " This is possible because Python lists are dynamic and store references to objects, not fixed-type elements"
      ],
      "metadata": {
        "id": "_BYSdb0hKwRB"
      }
    },
    {
      "cell_type": "code",
      "source": [
        "my_list = [10, \"dev\", 3.14, False, [13, 32, 23]]\n",
        "print(my_list)"
      ],
      "metadata": {
        "colab": {
          "base_uri": "https://localhost:8080/"
        },
        "id": "KfAcI2-EL2oU",
        "outputId": "346bc139-a3c5-4e96-8327-a85041f6781e"
      },
      "execution_count": 12,
      "outputs": [
        {
          "output_type": "stream",
          "name": "stdout",
          "text": [
            "[10, 'dev', 3.14, False, [13, 32, 23]]\n"
          ]
        }
      ]
    },
    {
      "cell_type": "markdown",
      "source": [
        " 10. Explain why strings are immutable in Python ?\n",
        "\n",
        "ans:-Reasons String are immutable:\n",
        " 1. Memory efficiency : Immutability allows Python to reuse identical string objects (string interning), saving memory.\n",
        " 2. Hash consistency : Strings must stay unchanged so their hash value remains constant when used as dictionary or set\n",
        " keys.\n",
        " 3. Thread-safety : Because strings can’t be modified, they can be shared between threads without risk of corruption.\n",
        " 4. Predictable behavior : Fixed, unchangeable strings prevent accidental changes, making code more reliable.\n",
        " 5. Performance optimization : Immutable strings can be stored and accessed in a way that speeds up certain operations."
      ],
      "metadata": {
        "id": "QF7E0Kl5MKei"
      }
    },
    {
      "cell_type": "markdown",
      "source": [
        " 11. What advantages do dictionaries offer over lists for certain tasks ?\n",
        "\n",
        "\n",
        "ans:- Advantages do dictionaries offer over lists for certain tasks are:\n",
        " 1. Faster lookups : Dictionaries provide average O(1) time complexity for accessing values by key, while lists take O(n) for\n",
        " searches.\n",
        " 2. Key-based access : You can access data using meaningful keys instead of relying on numeric indexes.\n",
        " 3. No need for manual searching : Values are retrieved directly by key without iterating through the entire collection.\n",
        " 4. Unordered but organized : Data is stored in a way that’s easy to manage when you care about associations rather than\n",
        " order.\n",
        "  5. Flexible keys and values : Keys can be any immutable type (string, number, tuple), and values can be any data type.\n",
        " 6. Clear mapping of data : Perfect for storing real-world data with a clear “label\n",
        "→\n",
        " value” relationship."
      ],
      "metadata": {
        "id": "N3_d7piBMntA"
      }
    },
    {
      "cell_type": "code",
      "source": [
        "# List of [name, phone] pairs\n",
        "contacts_list = [[\"Alice\", \"1234\"], [\"Bob\", \"5678\"], [\"Charlie\", \"9101\"]]\n",
        "# Find Bob's number\n",
        "for name, phone in contacts_list:\n",
        "    if name == \"Bob\":\n",
        "        print(phone)  # Output: 5678\n",
        "        break\n",
        "# Dictionary of name: phone pairs\n",
        "contacts_dict = {\"Alice\": \"1234\", \"Bob\": \"5678\", \"Charlie\": \"9101\"}\n",
        "# Find Bob's number\n",
        "print(contacts_dict[\"Bob\"])  # Output: 567"
      ],
      "metadata": {
        "colab": {
          "base_uri": "https://localhost:8080/"
        },
        "id": "RxfReFtCNGX8",
        "outputId": "19fd7ad9-eb0f-491a-cbdd-ff77379af535"
      },
      "execution_count": 14,
      "outputs": [
        {
          "output_type": "stream",
          "name": "stdout",
          "text": [
            "5678\n",
            "5678\n"
          ]
        }
      ]
    },
    {
      "cell_type": "markdown",
      "source": [
        " 12. Describe a scenario where using a tuple would be preferable over a list?\n",
        "\n",
        "  Scenario:\n",
        " Example:\n",
        " Storing fixed GPS coordinates of a city in a program.\n",
        " # Latitude and Longitude of New York\n",
        " new_york_coordinates = (40.7128, -74.0060\n",
        " Why tuple is preferable:\n",
        " >>1. The coordinates should never change during the program’s execution\n",
        " tuples are immutable, ensuring data integrity.\n",
        " >>2. Tuples can be used as dictionary keys if you need to store location-based data (lists cannot be keys).\n",
        " >>3. Slightly faster than lists for access, making them efficient for fixed datasets."
      ],
      "metadata": {
        "id": "uOGwdAQnNXul"
      }
    },
    {
      "cell_type": "markdown",
      "source": [
        " 13. How do sets handle duplicate values in Python?\n",
        "\n",
        "\n",
        "ans:- Sets automatically remove duplicate values because they only store unique elements.\n",
        " When you try to add a duplicate to a set, Python ignores it silently.\n",
        " This is possible because sets use a hash table internally, where each element’s hash value must be unique."
      ],
      "metadata": {
        "id": "fXtBm4YgOC9f"
      }
    },
    {
      "cell_type": "code",
      "source": [
        " my_set = {1, 2, 2, 3, 3, 3}\n",
        " print(my_set)"
      ],
      "metadata": {
        "colab": {
          "base_uri": "https://localhost:8080/"
        },
        "id": "IbIkvrpvOT9E",
        "outputId": "c482c83f-13a0-4f5c-8186-a71db835c4ad"
      },
      "execution_count": 15,
      "outputs": [
        {
          "output_type": "stream",
          "name": "stdout",
          "text": [
            "{1, 2, 3}\n"
          ]
        }
      ]
    },
    {
      "cell_type": "markdown",
      "source": [
        "14. How does the “in” keyword work differently for lists and dictionaries ?\n",
        "\n",
        "ans:- The in keyword behaves differently for lists and dictionaries in Python:\n",
        "\n",
        " 1.For lists \"in\" checks if a value exists anywhere in the list"
      ],
      "metadata": {
        "id": "c1TYmq_QOY_Q"
      }
    },
    {
      "cell_type": "code",
      "source": [
        " numbers = [1, 2, 3, 4]\n",
        " print(3 in numbers)\n",
        " print(5 in numbers)"
      ],
      "metadata": {
        "colab": {
          "base_uri": "https://localhost:8080/"
        },
        "id": "46HrN-KGOj0b",
        "outputId": "c49d4f2e-4b11-485d-86d2-77165c87f0ae"
      },
      "execution_count": 16,
      "outputs": [
        {
          "output_type": "stream",
          "name": "stdout",
          "text": [
            "True\n",
            "False\n"
          ]
        }
      ]
    },
    {
      "cell_type": "markdown",
      "source": [
        "2.For dictionaries – in checks if a key exists in the dictionary (not the value)."
      ],
      "metadata": {
        "id": "FdsUwx5lOxIM"
      }
    },
    {
      "cell_type": "code",
      "source": [
        " person = {\"name\": \"dev\", \"age\": 25}\n",
        " print(\"name\" in person)   #  checks keys\n",
        " print(\"dev\" in person)  # does not check values"
      ],
      "metadata": {
        "colab": {
          "base_uri": "https://localhost:8080/"
        },
        "id": "W5lTxRj_O1iS",
        "outputId": "2d276397-a1e9-4556-af42-0b52720168da"
      },
      "execution_count": 17,
      "outputs": [
        {
          "output_type": "stream",
          "name": "stdout",
          "text": [
            "True\n",
            "False\n"
          ]
        }
      ]
    },
    {
      "cell_type": "markdown",
      "source": [
        " 15. Can you modify the elements of a tuple? Explain why or why not\n",
        "\n",
        "ans:- No we cannot modify the elements of a tuple in Python.\n",
        " Reason:\n",
        " 1. Tuples are immutable, meaning once they are created, their elements cannot be changed, added, or removed.\n",
        " 2. This immutability ensures data integrity, allows tuples to be used as dictionary keys or stored in sets, and makes them\n",
        " more memory-efficient and thread-safe."
      ],
      "metadata": {
        "id": "xBZT3ZyuPEpo"
      }
    },
    {
      "cell_type": "code",
      "source": [
        " t = (1, 2, 3)\n",
        " t[0] = 10 # TypeError: 'tuple' object does not support item assignment"
      ],
      "metadata": {
        "id": "hCM4gsRaPYZ9"
      },
      "execution_count": null,
      "outputs": []
    },
    {
      "cell_type": "markdown",
      "source": [
        " 16. What is a nested dictionary, and give an example of its use case ?\n",
        "\n",
        "ans:- Nested Dictionary:\n",
        " 1. A nested dictionary is a dictionary that contains another dictionary as one or more of its values.\n",
        " 2. It’s used to store hierarchical or structured data in a compact, organized way"
      ],
      "metadata": {
        "id": "V-CmNs0_PZuK"
      }
    },
    {
      "cell_type": "code",
      "source": [
        "# Example of usecase\n",
        "students = {\"devashish\": { \"marks\": {\"Math\": 90, \"Science\": 85}},\n",
        "            \"shahil\": { \"marks\": {\"Math\": 78, \"Science\": 88}}}"
      ],
      "metadata": {
        "id": "jBAMNAAbRVcP"
      },
      "execution_count": null,
      "outputs": []
    },
    {
      "cell_type": "code",
      "metadata": {
        "colab": {
          "base_uri": "https://localhost:8080/"
        },
        "id": "d5607a48",
        "outputId": "71387fe1-95dc-4811-cab3-1151d39947e9"
      },
      "source": [
        "# Access shahil's Science marks\n",
        "print(students[\"shahil\"][\"marks\"][\"Science\"])"
      ],
      "execution_count": 30,
      "outputs": [
        {
          "output_type": "stream",
          "name": "stdout",
          "text": [
            "88\n"
          ]
        }
      ]
    },
    {
      "cell_type": "markdown",
      "source": [
        "17. Describe the time complexity of accessing elements in a dictionary?\n",
        "\n",
        "ans:- Accessing elements in a dictionary in Python has:\n",
        " 1. Average case: O(1) : Constant time, because dictionaries use a hash table for key lookups.\n",
        " 2. Worst case: O(n) : Happens rarely, only when many keys have the same hash value (hash collision) and Python has to\n",
        " search through them linearly"
      ],
      "metadata": {
        "id": "0OK7msUpRbwZ"
      }
    },
    {
      "cell_type": "code",
      "source": [
        " person = {\"name\": \"Alice\", \"age\": 25}\n",
        " print(person[\"age\"])  # O(1) average time"
      ],
      "metadata": {
        "colab": {
          "base_uri": "https://localhost:8080/"
        },
        "id": "RMfOQgMARnmE",
        "outputId": "64ffe80a-4cc4-428a-ef76-81bcf1dead93"
      },
      "execution_count": 31,
      "outputs": [
        {
          "output_type": "stream",
          "name": "stdout",
          "text": [
            "25\n"
          ]
        }
      ]
    },
    {
      "cell_type": "markdown",
      "source": [
        " 18. In what situations are lists preferred over dictionaries ?\n",
        "\n",
        "ans:- Situations where lists are preferred over dictionaries:\n",
        " 1. Order matters : When you need to preserve and work with the sequence of elements.\n",
        " 2. No key-value mapping needed : When you only care about storing values, not associating them with unique keys.\n",
        " 3. Allow duplicates : When you need to store the same value multiple times.\n",
        " 4. Index-based access : When elements are best accessed by their position (index) rather than by a key.\n",
        " 5. Small datasets : For small collections where the speed benefit of a dictionary is negligible.\n",
        " 6. Iteration over values : When you want to loop through elements directly without worrying about keys."
      ],
      "metadata": {
        "id": "z1WJikzARp7F"
      }
    },
    {
      "cell_type": "code",
      "source": [
        " fruits = [\"apple\", \"banana\", \"orange\", \"banana\"]\n",
        "print(fruits[1])"
      ],
      "metadata": {
        "colab": {
          "base_uri": "https://localhost:8080/"
        },
        "id": "wPBHXS7IR0hG",
        "outputId": "6ac07d95-5dc9-4130-c2a6-a88c1f33d77a"
      },
      "execution_count": 32,
      "outputs": [
        {
          "output_type": "stream",
          "name": "stdout",
          "text": [
            "banana\n"
          ]
        }
      ]
    },
    {
      "cell_type": "markdown",
      "source": [
        "19. Why are dictionaries considered unordered, and how does that affect data retrieval ?\n",
        "\n",
        "ans;- Dictionaries are considered unordered:\n",
        " 1. Before Python 3.7, dictionaries did not guarantee that elements would be stored or iterated in the order they were\n",
        " inserted.\n",
        "  2. This is because dictionaries are implemented using a hash table, where the storage location of each key-value pair\n",
        " depends on the key’s hash value, not its position.\n",
        " Effect on data retrieval\n",
        " 1. Key-based retrieval is unaffected we can always access a value directly using its key in O(1) time, regardless of order.\n",
        " 2. However, iteration order was unpredictable in older versions of Python, meaning looping over a dictionary could produce\n",
        " elements in any sequence.\n",
        " 3. From Python 3.7+, insertion order is preserved as an implementation detail but retrieval by key is still independent of\n",
        " order"
      ],
      "metadata": {
        "id": "xm7umLnzR8FD"
      }
    },
    {
      "cell_type": "markdown",
      "source": [
        "20. Explain the difference between a list and a dictionary in terms of data retrieval.\n",
        "\n",
        "ans:- Difference between a list and a dictionary in terms of data retrieval:\n",
        " 1. List : Retrieval is index-based\n",
        " We access elements using their position (0, 1, 2, …).\n",
        " Time complexity: O(1) for direct index access, but O(n) if you search for a value."
      ],
      "metadata": {
        "id": "PbVcRMg3SKmS"
      }
    },
    {
      "cell_type": "code",
      "source": [
        " fruits = [\"apple\", \"banana\", \"cherry\"]\n",
        " print(fruits[1])"
      ],
      "metadata": {
        "colab": {
          "base_uri": "https://localhost:8080/"
        },
        "id": "SGKc_liWShad",
        "outputId": "37ac43a9-6050-49b2-ee66-40844d7980fe"
      },
      "execution_count": 33,
      "outputs": [
        {
          "output_type": "stream",
          "name": "stdout",
          "text": [
            "banana\n"
          ]
        }
      ]
    },
    {
      "cell_type": "markdown",
      "source": [
        " 2. Dictionary : Retrieval is key-based\n",
        " We access values using unique keys, not positions.\n",
        " Time complexity: O(1) on average because of hashing"
      ],
      "metadata": {
        "id": "WH4O6BT-Sl0x"
      }
    },
    {
      "cell_type": "code",
      "source": [
        " person = {\"name\": \"dev\", \"age\": 22}\n",
        " print(person[\"age\"])"
      ],
      "metadata": {
        "colab": {
          "base_uri": "https://localhost:8080/"
        },
        "id": "u1WdiIsJSsIq",
        "outputId": "e543d9bf-dea4-4624-979f-e62bd4c13cbd"
      },
      "execution_count": 35,
      "outputs": [
        {
          "output_type": "stream",
          "name": "stdout",
          "text": [
            "22\n"
          ]
        }
      ]
    },
    {
      "cell_type": "markdown",
      "source": [
        "## **Practical Questions**"
      ],
      "metadata": {
        "id": "kNZxy29_S4FB"
      }
    },
    {
      "cell_type": "code",
      "source": [
        "#1 Write a code to create a string with your name and print i\n",
        "name = \"dev\"\n",
        "print(F\"my name is {name}\")\n"
      ],
      "metadata": {
        "colab": {
          "base_uri": "https://localhost:8080/"
        },
        "id": "WYwExbVWTFmR",
        "outputId": "d421ab59-18ba-4af7-dd85-300028a1741d"
      },
      "execution_count": 39,
      "outputs": [
        {
          "output_type": "stream",
          "name": "stdout",
          "text": [
            "my name is dev\n"
          ]
        }
      ]
    },
    {
      "cell_type": "code",
      "source": [
        "#2 Write a code to find the length of the string \"Hello World\"\n",
        "string=\"Hello World\"\n",
        "length=len(string)\n",
        "print(\"Length of string is :\",length)"
      ],
      "metadata": {
        "colab": {
          "base_uri": "https://localhost:8080/"
        },
        "id": "YnBVz3hHT0UW",
        "outputId": "1b6e72a3-6aba-422b-fadd-9f1a582f4ceb"
      },
      "execution_count": 41,
      "outputs": [
        {
          "output_type": "stream",
          "name": "stdout",
          "text": [
            "Length of string is : 11\n"
          ]
        }
      ]
    },
    {
      "cell_type": "code",
      "source": [
        " #3 Write a code to slice the first 3 characters from the string \"Python Programming\"\n",
        " string=\"Python Programming\"\n",
        " print(\"String after slicing first 3 character :\",string[3:])"
      ],
      "metadata": {
        "colab": {
          "base_uri": "https://localhost:8080/"
        },
        "id": "gLHsuNVnUAiW",
        "outputId": "a0f592d6-901f-43f0-b08e-33dcba267ca6"
      },
      "execution_count": 43,
      "outputs": [
        {
          "output_type": "stream",
          "name": "stdout",
          "text": [
            "String after slicing first 3 character : hon Programming\n"
          ]
        }
      ]
    },
    {
      "cell_type": "code",
      "source": [
        " #4 Write a code to convert the string \"hello\" to uppercase\n",
        " string=\"hello\"\n",
        " print(\"String in uppercase\",string.upper())"
      ],
      "metadata": {
        "colab": {
          "base_uri": "https://localhost:8080/"
        },
        "id": "qVE9MUPuUSKb",
        "outputId": "a2d212fe-5143-4364-b259-8de5cec0e741"
      },
      "execution_count": 45,
      "outputs": [
        {
          "output_type": "stream",
          "name": "stdout",
          "text": [
            "String in uppercase HELLO\n"
          ]
        }
      ]
    },
    {
      "cell_type": "code",
      "source": [
        " #5 Write a code to replace the word \"apple\" with \"orange\" in the string \"I like apple\"\n",
        " string=\"I like apple \"\n",
        " new_string=string.replace(\"apple\",\"orange\") #replacing the word apple --->orange\n",
        " print(\"String before replacement :\",string)\n",
        " print(\"String after replacemnt: \",new_string)"
      ],
      "metadata": {
        "colab": {
          "base_uri": "https://localhost:8080/"
        },
        "id": "fSPyUjHaUp4m",
        "outputId": "173586c3-9113-40a7-f61a-2ead8b3a0892"
      },
      "execution_count": 47,
      "outputs": [
        {
          "output_type": "stream",
          "name": "stdout",
          "text": [
            "String before replacement : I like apple \n",
            "String after replacemnt:  I like orange \n"
          ]
        }
      ]
    },
    {
      "cell_type": "code",
      "source": [
        "#6 Write a code to create a list with numbers 1 to 5 and print it\n",
        "list=[] #empty list\n",
        "for i in range(1,6):\n",
        "    list.append(i) #appending elements\n",
        "print(\"List with number 1 to 5\",list)"
      ],
      "metadata": {
        "colab": {
          "base_uri": "https://localhost:8080/"
        },
        "id": "C1WpHdcXVBKY",
        "outputId": "a6fa6279-f955-450b-803c-34c287923128"
      },
      "execution_count": 49,
      "outputs": [
        {
          "output_type": "stream",
          "name": "stdout",
          "text": [
            "List with number 1 to 5 [1, 2, 3, 4, 5]\n"
          ]
        }
      ]
    },
    {
      "cell_type": "code",
      "source": [
        " #7 Write a code to append the number 10 to the list [1, 2, 3, 4]\n",
        "\n",
        " list=[1,2,3,4]\n",
        " list.append(10)\n",
        " print(\"List after appending 10\",list)"
      ],
      "metadata": {
        "colab": {
          "base_uri": "https://localhost:8080/"
        },
        "id": "cHn5yCPcVQiM",
        "outputId": "232bfd10-caf5-4f13-d3aa-79a03e43477c"
      },
      "execution_count": 50,
      "outputs": [
        {
          "output_type": "stream",
          "name": "stdout",
          "text": [
            "List after appending 10 [1, 2, 3, 4, 10]\n"
          ]
        }
      ]
    },
    {
      "cell_type": "code",
      "source": [
        "#8 Write a code to remove the number 3 from the list [1, 2, 3, 4, 5]\n",
        "\n",
        "list=[1,2,3,4,5]\n",
        "list.remove(3)\n",
        "print(\"List after removing 3\",list)"
      ],
      "metadata": {
        "colab": {
          "base_uri": "https://localhost:8080/"
        },
        "id": "yc8-JBU7VcQt",
        "outputId": "70de8b9c-7819-42a6-cea3-5cdf8c6e7bd3"
      },
      "execution_count": 52,
      "outputs": [
        {
          "output_type": "stream",
          "name": "stdout",
          "text": [
            "List after removing 3 [1, 2, 4, 5]\n"
          ]
        }
      ]
    },
    {
      "cell_type": "code",
      "source": [
        " #9 Write a code to access the second element in the list ['a', 'b', 'c', 'd']\n",
        "\n",
        " list=['a','b','c','d']\n",
        " print(\"Second element in the list\",list[1])"
      ],
      "metadata": {
        "colab": {
          "base_uri": "https://localhost:8080/"
        },
        "id": "ReFRgw7bVpnC",
        "outputId": "42a4a893-e8fa-4da1-81c3-f431f787ce8d"
      },
      "execution_count": 53,
      "outputs": [
        {
          "output_type": "stream",
          "name": "stdout",
          "text": [
            "Second element in the list b\n"
          ]
        }
      ]
    },
    {
      "cell_type": "code",
      "source": [
        "#10  Write a code to reverse the list [10, 20, 30, 40, 50]\n",
        "\n",
        "list=[10,20,30,40,50]\n",
        "list.reverse()\n",
        "print(\"List after reversing\",list)"
      ],
      "metadata": {
        "colab": {
          "base_uri": "https://localhost:8080/"
        },
        "id": "ybJaqakUVwzr",
        "outputId": "83bb3baf-e65f-42c2-b340-ac4b831772f6"
      },
      "execution_count": 54,
      "outputs": [
        {
          "output_type": "stream",
          "name": "stdout",
          "text": [
            "List after reversing [50, 40, 30, 20, 10]\n"
          ]
        }
      ]
    },
    {
      "cell_type": "code",
      "source": [
        " #11 Write a code to create a tuple with the elements 100, 200, 300 and print it\n",
        "\n",
        " tuple=(100,200,300)\n",
        " print(\"Tuple with elements 100,200,300\",tuple)"
      ],
      "metadata": {
        "colab": {
          "base_uri": "https://localhost:8080/"
        },
        "id": "jpPCEZloWBiB",
        "outputId": "191db921-0219-46b6-918b-7999c628b462"
      },
      "execution_count": 55,
      "outputs": [
        {
          "output_type": "stream",
          "name": "stdout",
          "text": [
            "Tuple with elements 100,200,300 (100, 200, 300)\n"
          ]
        }
      ]
    },
    {
      "cell_type": "code",
      "source": [
        " #12 Write a code to access the second-to-last element of the tuple ('red', 'green', 'blue', 'yellow')\n",
        "\n",
        " tuple=('red','green','blue','yellow')\n",
        " print(\"Second last element of the tuple\",tuple[-2])"
      ],
      "metadata": {
        "colab": {
          "base_uri": "https://localhost:8080/"
        },
        "id": "QNbJykvLWVjO",
        "outputId": "66e3aeb8-7dfc-48e2-f9f9-964d02fe662e"
      },
      "execution_count": 56,
      "outputs": [
        {
          "output_type": "stream",
          "name": "stdout",
          "text": [
            "Second last element of the tuple blue\n"
          ]
        }
      ]
    },
    {
      "cell_type": "code",
      "source": [
        " #13 Write a code to find the minimum number in the tuple (10, 20, 5, 15)\n",
        "\n",
        " tuple=(10,20,5,15)\n",
        " print(\"Minimum number in the tuple\",min(tuple))"
      ],
      "metadata": {
        "colab": {
          "base_uri": "https://localhost:8080/"
        },
        "id": "Yj7sJmdKWbFU",
        "outputId": "9ef1f913-ae34-4e33-c402-b6f289a4d69e"
      },
      "execution_count": 57,
      "outputs": [
        {
          "output_type": "stream",
          "name": "stdout",
          "text": [
            "Minimum number in the tuple 5\n"
          ]
        }
      ]
    },
    {
      "cell_type": "code",
      "source": [
        " #14 Write a code to find the index of the element \"cat\" in the tuple ('dog', 'cat', 'rabbit')\n",
        "\n",
        " tuple=('dog','cat','rabbit')\n",
        " print(\"Index of the element cat\",tuple.index('cat'))"
      ],
      "metadata": {
        "colab": {
          "base_uri": "https://localhost:8080/"
        },
        "id": "xk_HGvJBWhrw",
        "outputId": "73063954-3530-4492-8b31-36763f44cc95"
      },
      "execution_count": 58,
      "outputs": [
        {
          "output_type": "stream",
          "name": "stdout",
          "text": [
            "Index of the element cat 1\n"
          ]
        }
      ]
    },
    {
      "cell_type": "code",
      "source": [
        "#15 Write a code to create a tuple containing three different fruits and check if \"kiwi\" is in it\n",
        "fruits=(\"apple\",\"banana\",\"orange\")\n",
        "if \"kiwi\" in fruits:\n",
        "    print(\"kiwi is in the tuple\")\n",
        "else:\n",
        "    print(\"kiwi is not in the tuple\")"
      ],
      "metadata": {
        "colab": {
          "base_uri": "https://localhost:8080/"
        },
        "id": "HPigUxccWonC",
        "outputId": "b209d437-75a3-4112-c317-0adb5f49b470"
      },
      "execution_count": 60,
      "outputs": [
        {
          "output_type": "stream",
          "name": "stdout",
          "text": [
            "kiwi is not in the tuple\n"
          ]
        }
      ]
    },
    {
      "cell_type": "code",
      "source": [
        "#16  Write a code to create a set with the elements 'a', 'b', 'c' and print it\n",
        "\n",
        "set=('a','b','c')\n",
        "print(\"Set with elements a,b,c\",set)"
      ],
      "metadata": {
        "colab": {
          "base_uri": "https://localhost:8080/"
        },
        "id": "74E2DMamXhnh",
        "outputId": "edbe2f5b-7538-4a58-9e18-2f8814d6b202"
      },
      "execution_count": 61,
      "outputs": [
        {
          "output_type": "stream",
          "name": "stdout",
          "text": [
            "Set with elements a,b,c ('a', 'b', 'c')\n"
          ]
        }
      ]
    },
    {
      "cell_type": "code",
      "source": [
        " #17 Write a code to clear all elements from the set {1, 2, 3, 4, 5}\n",
        "\n",
        " set={1,2,3,4,5}\n",
        " set.clear()\n",
        " print(\"Set after clearing all elements\",set)"
      ],
      "metadata": {
        "colab": {
          "base_uri": "https://localhost:8080/"
        },
        "id": "u5chJ4w3XtoW",
        "outputId": "b413a49d-54c4-4100-e857-31795e85b679"
      },
      "execution_count": 62,
      "outputs": [
        {
          "output_type": "stream",
          "name": "stdout",
          "text": [
            "Set after clearing all elements set()\n"
          ]
        }
      ]
    },
    {
      "cell_type": "code",
      "source": [
        " #18  Write a code to remove the element 4 from the set {1, 2, 3, 4}.\n",
        "\n",
        " set={1,2,3,4}\n",
        " set.remove(4)\n",
        " print(\"Set after removing element 4\",set)"
      ],
      "metadata": {
        "colab": {
          "base_uri": "https://localhost:8080/"
        },
        "id": "MbLMgSROXzJP",
        "outputId": "a6aac203-3cc4-4679-f930-552940fc8cf0"
      },
      "execution_count": 63,
      "outputs": [
        {
          "output_type": "stream",
          "name": "stdout",
          "text": [
            "Set after removing element 4 {1, 2, 3}\n"
          ]
        }
      ]
    },
    {
      "cell_type": "code",
      "source": [],
      "metadata": {
        "id": "XPhVqzViX_yU"
      },
      "execution_count": 63,
      "outputs": []
    },
    {
      "cell_type": "code",
      "source": [
        " #19 Write a code to find the union of two sets {1, 2, 3} and {3, 4, 5}\n",
        "\n",
        " set1={1,2,3}\n",
        " set2={3,4,5}\n",
        " union=set1.union(set2)\n",
        " print(\"Union of two sets\",union)"
      ],
      "metadata": {
        "id": "tPLwCoKIX9Nr"
      },
      "execution_count": null,
      "outputs": []
    },
    {
      "cell_type": "code",
      "source": [
        "#20  Write a code to find the intersection of two sets {1, 2, 3} and {2, 3, 4}\n",
        "\n",
        "set1={1,2,3}\n",
        "set2={2,3,4}\n",
        "intersection=set1.intersection(set2)\n",
        "print(\"Intersection of two sets\",intersection)"
      ],
      "metadata": {
        "colab": {
          "base_uri": "https://localhost:8080/"
        },
        "id": "0ESHy30uYAjp",
        "outputId": "55c9655d-7c5f-4322-e629-1377363765a1"
      },
      "execution_count": 64,
      "outputs": [
        {
          "output_type": "stream",
          "name": "stdout",
          "text": [
            "Intersection of two sets {2, 3}\n"
          ]
        }
      ]
    },
    {
      "cell_type": "code",
      "source": [
        " #21  Write a code to create a dictionary with the keys \"name\", \"age\", and \"city\", and print it\n",
        "\n",
        " dictionary={\"name\":\"dev\",\"age\":22,\"city\":\"delhi\"}\n",
        " print(\"Dictionary with keys name,age,city\",dictionary)"
      ],
      "metadata": {
        "colab": {
          "base_uri": "https://localhost:8080/"
        },
        "id": "mASvDJeZYGdG",
        "outputId": "6988d89e-91e9-49b0-b1d9-941e6105cdb6"
      },
      "execution_count": 65,
      "outputs": [
        {
          "output_type": "stream",
          "name": "stdout",
          "text": [
            "Dictionary with keys name,age,city {'name': 'dev', 'age': 22, 'city': 'delhi'}\n"
          ]
        }
      ]
    },
    {
      "cell_type": "code",
      "source": [
        " #22 Write a code to add a new key-value pair \"country\": \"USA\" to the dictionary {'name': 'John', 'age': 25}\n",
        "\n",
        " dictionary={'name': 'John', 'age': 25}\n",
        " dictionary[\"country\"]=\"USA\"\n",
        " print(\"Dictionary after adding new key value pair\",dictionary)"
      ],
      "metadata": {
        "colab": {
          "base_uri": "https://localhost:8080/"
        },
        "id": "W7zusMPsYNJB",
        "outputId": "a400dff9-db39-4daf-bb24-a8f3b39744ba"
      },
      "execution_count": 66,
      "outputs": [
        {
          "output_type": "stream",
          "name": "stdout",
          "text": [
            "Dictionary after adding new key value pair {'name': 'John', 'age': 25, 'country': 'USA'}\n"
          ]
        }
      ]
    },
    {
      "cell_type": "code",
      "source": [
        " #23 Write a code to access the value associated with the key \"name\" in the dictionary {'name': 'Alice', 'age': 30}\n",
        "\n",
        " dictionary={'name': 'Alice', 'age': 30}\n",
        " print(\"Value associated with the key name\",dictionary[\"name\"])"
      ],
      "metadata": {
        "colab": {
          "base_uri": "https://localhost:8080/"
        },
        "id": "PbPIvS4kYUTf",
        "outputId": "52d026f3-1487-499d-95b4-fce4238e4d61"
      },
      "execution_count": 67,
      "outputs": [
        {
          "output_type": "stream",
          "name": "stdout",
          "text": [
            "Value associated with the key name Alice\n"
          ]
        }
      ]
    },
    {
      "cell_type": "code",
      "source": [
        " #24 Write a code to remove the key \"age\" from the dictionary {'name': 'Bob', 'age': 22, 'city': 'New York'}\n",
        "\n",
        " dictionary={'name': 'Bob', 'age': 22, 'city': 'New York'}\n",
        " dictionary.pop(\"age\")\n",
        " print(\"Dictionary after removing key age\",dictionary)"
      ],
      "metadata": {
        "colab": {
          "base_uri": "https://localhost:8080/"
        },
        "id": "g4nMVaaqYdwU",
        "outputId": "c169e685-7d10-47fa-bb24-6953acf6a240"
      },
      "execution_count": 68,
      "outputs": [
        {
          "output_type": "stream",
          "name": "stdout",
          "text": [
            "Dictionary after removing key age {'name': 'Bob', 'city': 'New York'}\n"
          ]
        }
      ]
    },
    {
      "cell_type": "code",
      "source": [
        " #25 Write a code to check if the key \"city\" exists in the dictionary {'name': 'Alice', 'city': 'Paris'}\n",
        "\n",
        " dictionary={'name': 'Alice', 'city': 'Paris'}\n",
        " if \"city\" in dictionary:\n",
        "    print(\"Key city exists in the dictionary\")\n",
        " else:\n",
        "    print(\"Key city does not exist in the dictionary\")"
      ],
      "metadata": {
        "colab": {
          "base_uri": "https://localhost:8080/"
        },
        "id": "XkGv_julYr1C",
        "outputId": "5cca8f10-1687-4221-da62-81c3bb7321af"
      },
      "execution_count": 69,
      "outputs": [
        {
          "output_type": "stream",
          "name": "stdout",
          "text": [
            "Key city exists in the dictionary\n"
          ]
        }
      ]
    },
    {
      "cell_type": "code",
      "source": [
        " #26 Write a code to create a list, a tuple, and a dictionary, and print them all\n",
        "\n",
        " list=[1,2,3,4,5]\n",
        " print(\"List\",list)\n",
        " tuple=(1,2,3,4,5)\n",
        " print(\"Tuple\",tuple)"
      ],
      "metadata": {
        "colab": {
          "base_uri": "https://localhost:8080/"
        },
        "id": "-o9YWI-YY7mj",
        "outputId": "be01ed91-6dcf-45bc-ec75-35aefe960be9"
      },
      "execution_count": 70,
      "outputs": [
        {
          "output_type": "stream",
          "name": "stdout",
          "text": [
            "List [1, 2, 3, 4, 5]\n",
            "Tuple (1, 2, 3, 4, 5)\n"
          ]
        }
      ]
    },
    {
      "cell_type": "code",
      "source": [
        "#27 Write a code to create a list of 5 random numbers between 1 and 100, sort it in ascending order, and print the result .\n",
        "import random\n",
        "\n",
        "# Create a list of 5 random numbers between 1 and 100\n",
        "random_list = [random.randint(1, 100) for _ in range(5)]\n",
        "\n",
        "# Sort the list in ascending order\n",
        "random_list.sort()\n",
        "\n",
        "# Print the result\n",
        "print(\"List after sorting\", random_list)"
      ],
      "metadata": {
        "colab": {
          "base_uri": "https://localhost:8080/"
        },
        "id": "JWbI5BL1ZB_X",
        "outputId": "c6643d3a-a609-43ca-e5ca-42016bf275fc"
      },
      "execution_count": 72,
      "outputs": [
        {
          "output_type": "stream",
          "name": "stdout",
          "text": [
            "List after sorting [34, 38, 54, 66, 96]\n"
          ]
        }
      ]
    },
    {
      "cell_type": "code",
      "source": [
        "  #28 Write a code to create a list with strings and print the element at the third index\n",
        "\n",
        "  list=[\"apple\",\"banana\",\"orange\",\"grapes\",\"mango\"]\n",
        "  print(\"Element at the third index\",list[3])"
      ],
      "metadata": {
        "colab": {
          "base_uri": "https://localhost:8080/"
        },
        "id": "oQf08ZFmZYCd",
        "outputId": "b87d9972-82f4-423e-dad7-2f9bf182453d"
      },
      "execution_count": 73,
      "outputs": [
        {
          "output_type": "stream",
          "name": "stdout",
          "text": [
            "Element at the third index grapes\n"
          ]
        }
      ]
    },
    {
      "cell_type": "code",
      "source": [
        " #29  Write a code to combine two dictionaries into one and print the result.\n",
        "\n",
        " dictionary1={'name': 'Alice', 'age': 30}\n",
        " dictionary2={'city': 'Paris'}\n",
        " combined_dict={**dictionary1,**dictionary2}\n",
        " print(\"Combined dictionary\",combined_dict)"
      ],
      "metadata": {
        "colab": {
          "base_uri": "https://localhost:8080/"
        },
        "id": "gNeO5wx-Z1R7",
        "outputId": "0d33c8a3-edc4-4ecd-9a5e-6a35cc68a55b"
      },
      "execution_count": 74,
      "outputs": [
        {
          "output_type": "stream",
          "name": "stdout",
          "text": [
            "Combined dictionary {'name': 'Alice', 'age': 30, 'city': 'Paris'}\n"
          ]
        }
      ]
    },
    {
      "cell_type": "code",
      "source": [
        " #30 Write a code to convert a list of strings into a set\n",
        "\n",
        " list=[\"apple\",\"banana\",\"orange\",\"grapes\",\"mango\"]\n",
        " set=(list)\n",
        " print(\"Set\",set)"
      ],
      "metadata": {
        "colab": {
          "base_uri": "https://localhost:8080/"
        },
        "id": "EJUqII6YZ9m7",
        "outputId": "0277ad9d-e91a-4966-ef4f-b758467daf08"
      },
      "execution_count": 82,
      "outputs": [
        {
          "output_type": "stream",
          "name": "stdout",
          "text": [
            "Set ['apple', 'banana', 'orange', 'grapes', 'mango']\n"
          ]
        }
      ]
    }
  ]
}